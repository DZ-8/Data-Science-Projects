{
 "cells": [
  {
   "cell_type": "code",
   "execution_count": 17,
   "metadata": {},
   "outputs": [],
   "source": [
    "import pandas as pd\n",
    "import numpy as np\n",
    "import yfinance as yf\n",
    "from array import *"
   ]
  },
  {
   "cell_type": "markdown",
   "metadata": {},
   "source": [
    "dataCompile() compiles all of the equities passed through the paramter and places them into a dataframe. It also removes any NaN values as well as sorts the prices so that it is most recent to least recent"
   ]
  },
  {
   "cell_type": "code",
   "execution_count": 73,
   "metadata": {},
   "outputs": [
    {
     "name": "stdout",
     "output_type": "stream",
     "text": [
      "[*********************100%***********************]  1 of 1 completed\n",
      "[*********************100%***********************]  1 of 1 completed\n",
      "[*********************100%***********************]  1 of 1 completed\n",
      "[*********************100%***********************]  1 of 1 completed\n",
      "[*********************100%***********************]  1 of 1 completed\n",
      "[*********************100%***********************]  1 of 1 completed\n",
      "[*********************100%***********************]  1 of 1 completed\n",
      "[*********************100%***********************]  1 of 1 completed\n",
      "[*********************100%***********************]  1 of 1 completed\n",
      "[*********************100%***********************]  1 of 1 completed\n",
      "[*********************100%***********************]  1 of 1 completed\n",
      "[*********************100%***********************]  1 of 1 completed\n",
      "[*********************100%***********************]  1 of 1 completed\n"
     ]
    }
   ],
   "source": [
    "ETFs = [\"IVV\", \"VB\", \"VO\", \"VTI\", \"VWO\", \"VXUS\", \"BSV\", \"BIV\", \"BLV\", \"GLD\", \"SLV\", \"VDE\", \"VNQ\"]\n",
    "def dataCompile(etf_list):\n",
    "    rawPricesdf = pd.DataFrame()\n",
    "\n",
    "    for ticker in etf_list:\n",
    "        data = yf.download(ticker)\n",
    "        flippedData = data['Adj Close'].iloc[::-1]\n",
    "        flippedData.name = ticker \n",
    "        rawPricesdf = pd.concat([rawPricesdf, flippedData], axis=1)\n",
    "        rawPricesdf.dropna(inplace = True)\n",
    "\n",
    "    return rawPricesdf\n",
    "    \n",
    "compiledData = dataCompile(ETFs)\n"
   ]
  },
  {
   "cell_type": "markdown",
   "metadata": {},
   "source": [
    "Historical Simulation Risk Model "
   ]
  },
  {
   "cell_type": "code",
   "execution_count": null,
   "metadata": {},
   "outputs": [],
   "source": []
  }
 ],
 "metadata": {
  "kernelspec": {
   "display_name": "base",
   "language": "python",
   "name": "python3"
  },
  "language_info": {
   "codemirror_mode": {
    "name": "ipython",
    "version": 3
   },
   "file_extension": ".py",
   "mimetype": "text/x-python",
   "name": "python",
   "nbconvert_exporter": "python",
   "pygments_lexer": "ipython3",
   "version": "3.10.10"
  }
 },
 "nbformat": 4,
 "nbformat_minor": 2
}
